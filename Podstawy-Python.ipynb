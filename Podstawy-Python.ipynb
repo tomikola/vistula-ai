{
 "cells": [
  {
   "cell_type": "markdown",
   "metadata": {},
   "source": [
    "Zmienne\n",
    "\n",
    "W Pythonie nie definujesz typu zmiennej przez co możesz przypisać do zmiennej dowolną wartość.   "
   ]
  },
  {
   "cell_type": "code",
   "execution_count": 5,
   "metadata": {},
   "outputs": [
    {
     "name": "stdout",
     "output_type": "stream",
     "text": [
      "15\n"
     ]
    },
    {
     "ename": "TypeError",
     "evalue": "unsupported operand type(s) for +: 'int' and 'str'",
     "output_type": "error",
     "traceback": [
      "\u001b[1;31m---------------------------------------------------------------------------\u001b[0m",
      "\u001b[1;31mTypeError\u001b[0m                                 Traceback (most recent call last)",
      "Cell \u001b[1;32mIn[5], line 5\u001b[0m\n\u001b[0;32m      3\u001b[0m \u001b[38;5;28mprint\u001b[39m(a \u001b[38;5;241m+\u001b[39m b)\n\u001b[0;32m      4\u001b[0m b \u001b[38;5;241m=\u001b[39m \u001b[38;5;124m'\u001b[39m\u001b[38;5;124mMazuer\u001b[39m\u001b[38;5;124m'\u001b[39m\n\u001b[1;32m----> 5\u001b[0m \u001b[38;5;28mprint\u001b[39m(\u001b[43ma\u001b[49m\u001b[38;5;241;43m+\u001b[39;49m\u001b[43mb\u001b[49m)\n",
      "\u001b[1;31mTypeError\u001b[0m: unsupported operand type(s) for +: 'int' and 'str'"
     ]
    }
   ],
   "source": [
    "a = 5\n",
    "b = 10\n",
    "print(a + b)\n",
    "b = 'Mazuer'\n",
    "print(a+b)"
   ]
  },
  {
   "cell_type": "markdown",
   "metadata": {},
   "source": [
    "# W przypadku powyżej dla zmiennej b przypisaliśmy liczbę i wykonało się dodawanie, a następnie zmieniliśmy zmienną na string i nie udało się!!!    \n",
    "## W innych językach definiujemy typ zmiennej. Np w Javie nie bylibyśmy w stanie przypisać stringu do zmiennej b   \n",
    "```python\n",
    "a : str = \"Kot\" # Adnotacja :int oznacza, że informujemy, że oczekujemy typu string\n",
    "b : int = 34  # Adnotacja :int oznacza, że informujemy, że oczekujemy typu intiger\n",
    "```\n",
    "\n",
    "\n",
    "## Operacja na Stringach"
   ]
  },
  {
   "cell_type": "code",
   "execution_count": 11,
   "metadata": {},
   "outputs": [
    {
     "name": "stdout",
     "output_type": "stream",
     "text": [
      "Ala ma 15 kotów\n",
      "Ala ma 15 kotów\n",
      "True\n"
     ]
    }
   ],
   "source": [
    "a = \"Ala\"\n",
    "b = 15\n",
    "c = \"kotów\"\n",
    "\n",
    "string = a + \" ma \" + str(b) +\" \" + c\n",
    "print(string)\n",
    "string2 = f\"{a} ma {b} {c}\"\n",
    "print(string2)\n",
    "print(string == string2)"
   ]
  },
  {
   "cell_type": "markdown",
   "metadata": {},
   "source": [
    "# Listy, Krotki, Zbiory i Słowniki"
   ]
  },
  {
   "cell_type": "code",
   "execution_count": 31,
   "metadata": {},
   "outputs": [
    {
     "name": "stdout",
     "output_type": "stream",
     "text": [
      "Lista licz\n",
      "[1, 2, 3, 3, 4, 4, 5]\n",
      "Lista licz po dodanie elementu\n",
      "[1, 2, 3, 3, 4, 4, 5, 6]\n",
      "Lista licz po usunięciu  wartości 3\n",
      "[1, 2, 3, 4, 4, 5, 6]\n",
      "Lista licz po usunięciu ostatniego elementu dzięki pop\n",
      "Wyrzucona Wartość : 6\n",
      "Lista: [1, 2, 3, 4, 4, 5]\n",
      "Lista z Stringa\n",
      "['A', 'l', 'a', ' ', 'm', 'a', ' ', '1', '5', ' ', 'k', 'o', 't', 'ó', 'w']\n",
      "Krotka z Listy\n",
      "(1, 2, 3, 4, 4, 5)\n",
      "Set z Listy\n",
      "{1, 2, 3, 4, 5}\n",
      "Słownik\n",
      "{'a': 5, 'b': 10, 'c': 'Duda'}\n",
      "5\n",
      "Duda\n",
      "a = 5\n",
      "b = 10\n",
      "c = Duda\n"
     ]
    }
   ],
   "source": [
    "#Utworzenie listy\n",
    "lista = [1, 2, 3, 3, 4, 4, 5]\n",
    "print(f\"Lista licz\\n{lista}\")\n",
    "\n",
    "#dodawanie elementów do listy\n",
    "lista.append(6)\n",
    "print(f\"Lista licz po dodanie elementu\\n{lista}\")\n",
    "lista.remove(3)\n",
    "print(f\"Lista licz po usunięciu  wartości 3\\n{lista}\")\n",
    "wyrzucona_wartosc = lista.pop()\n",
    "print(f\"Lista licz po usunięciu ostatniego elementu dzięki pop\\nWyrzucona Wartość : {wyrzucona_wartosc}\\nLista: {lista}\")\n",
    "#tworzenie listy\n",
    "lista_z_string = list(string)\n",
    "print(f\"Lista z Stringa\\n{lista_z_string}\")\n",
    "\n",
    "krotka_z_listy = tuple(lista)\n",
    "print(f\"Krotka z Listy\\n{krotka_z_listy}\")\n",
    "\n",
    "set_z_listy = set(lista)\n",
    "print(f\"Set z Listy\\n{set_z_listy}\")\n",
    "\n",
    "slownik = {\n",
    "    \"a\" : 5,\n",
    "    \"b\" : 10,\n",
    "    \"c\" : \"Duda\"\n",
    "    }\n",
    "print(f\"Słownik\\n{slownik}\")\n",
    "print(slownik['a'])\n",
    "print(slownik.get(\"c\"))\n",
    "\n",
    "for klucz, wartosc in slownik.items():\n",
    "    print(f\"{klucz} = {wartosc}\")\n"
   ]
  },
  {
   "cell_type": "markdown",
   "metadata": {},
   "source": [
    "# Ciekawsze tworzenie list i słowników"
   ]
  },
  {
   "cell_type": "code",
   "execution_count": 35,
   "metadata": {},
   "outputs": [
    {
     "name": "stdout",
     "output_type": "stream",
     "text": [
      "[0, 2, 4, 6, 8]\n",
      "{2: 4, 3: 9, 4: 16, 5: 25, 6: 36, 7: 49, 8: 64, 9: 81}\n"
     ]
    }
   ],
   "source": [
    "ciekawsza_lista = [ i for i in range(0,10,2)]\n",
    "print(ciekawsza_lista)\n",
    "\n",
    "ciekawszy_slownik = { i : i**2 for i in range(2,10)}\n",
    "print(ciekawszy_slownik)"
   ]
  },
  {
   "cell_type": "code",
   "execution_count": null,
   "metadata": {},
   "outputs": [],
   "source": [
    "888888888888888888888888888"
   ]
  }
 ],
 "metadata": {
  "kernelspec": {
   "display_name": "Python 3",
   "language": "python",
   "name": "python3"
  },
  "language_info": {
   "codemirror_mode": {
    "name": "ipython",
    "version": 3
   },
   "file_extension": ".py",
   "mimetype": "text/x-python",
   "name": "python",
   "nbconvert_exporter": "python",
   "pygments_lexer": "ipython3",
   "version": "3.11.6"
  }
 },
 "nbformat": 4,
 "nbformat_minor": 2
}
