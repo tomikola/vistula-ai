{
 "cells": [
  {
   "cell_type": "markdown",
   "metadata": {},
   "source": [
    "Zmienne\n",
    "\n",
    "W Pythonie nie definujesz typu zmiennej przez co możesz przypisać do zmiennej dowolną wartość.   "
   ]
  },
  {
   "cell_type": "code",
   "execution_count": 5,
   "metadata": {},
   "outputs": [
    {
     "name": "stdout",
     "output_type": "stream",
     "text": [
      "15\n"
     ]
    },
    {
     "ename": "TypeError",
     "evalue": "unsupported operand type(s) for +: 'int' and 'str'",
     "output_type": "error",
     "traceback": [
      "\u001b[1;31m---------------------------------------------------------------------------\u001b[0m",
      "\u001b[1;31mTypeError\u001b[0m                                 Traceback (most recent call last)",
      "Cell \u001b[1;32mIn[5], line 5\u001b[0m\n\u001b[0;32m      3\u001b[0m \u001b[38;5;28mprint\u001b[39m(a \u001b[38;5;241m+\u001b[39m b)\n\u001b[0;32m      4\u001b[0m b \u001b[38;5;241m=\u001b[39m \u001b[38;5;124m'\u001b[39m\u001b[38;5;124mMazuer\u001b[39m\u001b[38;5;124m'\u001b[39m\n\u001b[1;32m----> 5\u001b[0m \u001b[38;5;28mprint\u001b[39m(\u001b[43ma\u001b[49m\u001b[38;5;241;43m+\u001b[39;49m\u001b[43mb\u001b[49m)\n",
      "\u001b[1;31mTypeError\u001b[0m: unsupported operand type(s) for +: 'int' and 'str'"
     ]
    }
   ],
   "source": [
    "a = 5\n",
    "b = 10\n",
    "print(a + b)\n",
    "b = 'Mazuer'\n",
    "print(a+b)"
   ]
  },
  {
   "cell_type": "markdown",
   "metadata": {},
   "source": [
    "# W przypadku powyżej dla zmiennej b przypisaliśmy liczbę i wykonało się dodawanie, a następnie zmieniliśmy zmienną na string i nie udało się!!!    \n",
    "## W innych językach definiujemy typ zmiennej. Np w Javie nie bylibyśmy w stanie przypisać stringu do zmiennej b   \n",
    "```python\n",
    "a : str = \"Kot\" # Adnotacja :int oznacza, że informujemy, że oczekujemy typu string\n",
    "b : int = 34  # Adnotacja :int oznacza, że informujemy, że oczekujemy typu intiger\n",
    "```\n",
    "\n",
    "\n",
    "## Operacja na Stringach"
   ]
  },
  {
   "cell_type": "code",
   "execution_count": 11,
   "metadata": {},
   "outputs": [
    {
     "name": "stdout",
     "output_type": "stream",
     "text": [
      "Ala ma 15 kotów\n",
      "Ala ma 15 kotów\n",
      "True\n"
     ]
    }
   ],
   "source": [
    "a = \"Ala\"\n",
    "b = 15\n",
    "c = \"kotów\"\n",
    "\n",
    "string = a + \" ma \" + str(b) +\" \" + c\n",
    "print(string)\n",
    "string2 = f\"{a} ma {b} {c}\"\n",
    "print(string2)\n",
    "print(string == string2)"
   ]
  },
  {
   "cell_type": "markdown",
   "metadata": {},
   "source": [
    "# IF, While, For"
   ]
  },
  {
   "cell_type": "code",
   "execution_count": 72,
   "metadata": {},
   "outputs": [
    {
     "name": "stdout",
     "output_type": "stream",
     "text": [
      "Równe 5\n",
      "\n",
      "\n",
      "Zmienna jest mniejsza niz 10\n",
      "Zmienna jest mniejsza niz 10\n",
      "Zmienna jest mniejsza niz 10\n",
      "Zmienna jest mniejsza niz 10\n",
      "Zmienna jest mniejsza niz 10\n",
      "Zmienna równa się 10\n",
      "\n",
      "\n",
      "Nasze i = 0\n",
      "Nasze i = 1\n",
      "Nasze i = 2\n",
      "Nasze i = 3\n",
      "Nasze i = 4\n",
      "Nasze i = 5\n",
      "Nasze i = 6\n",
      "Nasze i = 7\n",
      "Nasze i = 8\n",
      "Nasze i = 9\n",
      "Nasze i = 10\n",
      "\n",
      "\n",
      "Nasze i = 0\n",
      "Nasze i = 1\n",
      "Nasze i = 2\n",
      "Nasze i = 3\n",
      "Nasze i = 4\n",
      "Nasze i = 5\n",
      "Nasze i = 6\n",
      "Nasze i = 7\n",
      "Nasze i = 8\n",
      "Nasze i = 9\n",
      "Nasze i = 10\n",
      "Nasze i = Kot\n"
     ]
    }
   ],
   "source": [
    "zmienna_bool = True\n",
    "zmienna_int = 5\n",
    "\n",
    "if zmienna_bool:\n",
    "    if zmienna_int > 5:\n",
    "        print(\"Większe od 5\")\n",
    "    elif zmienna_int == 5:\n",
    "        print(\"Równe 5\")\n",
    "    else:\n",
    "        print(\"Mniejsze od 5\")\n",
    "\n",
    "print(\"\\n\")\n",
    "\n",
    "while zmienna_bool:\n",
    "    if zmienna_int == 10:\n",
    "        print(\"Zmienna równa się 10\")\n",
    "        zmienna_bool = False\n",
    "    else:\n",
    "        print(\"Zmienna jest mniejsza niz 10\")\n",
    "        zmienna_int += 1\n",
    "\n",
    "print(\"\\n\")\n",
    "# W Pythonie pętla For działa jak ForEach dlatego musimy zawsze deklarować zbiór np dla i od 0 do 10 tworzymy generator / zbior tych liczb:\n",
    "for i in range(0,11):\n",
    "    print(f\"Nasze i = {i}\")\n",
    "print(\"\\n\")\n",
    "\n",
    "for i in (0, 1, 2, 3, 4, 5, 6, 7, 8, 9, 10, \"Kot\"):\n",
    "    print(f\"Nasze i = {i}\")"
   ]
  },
  {
   "cell_type": "markdown",
   "metadata": {},
   "source": [
    "# Listy, Krotki, Zbiory i Słowniki"
   ]
  },
  {
   "cell_type": "code",
   "execution_count": 31,
   "metadata": {},
   "outputs": [
    {
     "name": "stdout",
     "output_type": "stream",
     "text": [
      "Lista licz\n",
      "[1, 2, 3, 3, 4, 4, 5]\n",
      "Lista licz po dodanie elementu\n",
      "[1, 2, 3, 3, 4, 4, 5, 6]\n",
      "Lista licz po usunięciu  wartości 3\n",
      "[1, 2, 3, 4, 4, 5, 6]\n",
      "Lista licz po usunięciu ostatniego elementu dzięki pop\n",
      "Wyrzucona Wartość : 6\n",
      "Lista: [1, 2, 3, 4, 4, 5]\n",
      "Lista z Stringa\n",
      "['A', 'l', 'a', ' ', 'm', 'a', ' ', '1', '5', ' ', 'k', 'o', 't', 'ó', 'w']\n",
      "Krotka z Listy\n",
      "(1, 2, 3, 4, 4, 5)\n",
      "Set z Listy\n",
      "{1, 2, 3, 4, 5}\n",
      "Słownik\n",
      "{'a': 5, 'b': 10, 'c': 'Duda'}\n",
      "5\n",
      "Duda\n",
      "a = 5\n",
      "b = 10\n",
      "c = Duda\n"
     ]
    }
   ],
   "source": [
    "#Utworzenie listy\n",
    "lista = [1, 2, 3, 3, 4, 4, 5]\n",
    "print(f\"Lista licz\\n{lista}\")\n",
    "\n",
    "#dodawanie elementów do listy\n",
    "lista.append(6)\n",
    "print(f\"Lista licz po dodanie elementu\\n{lista}\")\n",
    "lista.remove(3)\n",
    "print(f\"Lista licz po usunięciu  wartości 3\\n{lista}\")\n",
    "wyrzucona_wartosc = lista.pop()\n",
    "print(f\"Lista licz po usunięciu ostatniego elementu dzięki pop\\nWyrzucona Wartość : {wyrzucona_wartosc}\\nLista: {lista}\")\n",
    "#tworzenie listy\n",
    "lista_z_string = list(string)\n",
    "print(f\"Lista z Stringa\\n{lista_z_string}\")\n",
    "\n",
    "krotka_z_listy = tuple(lista)\n",
    "print(f\"Krotka z Listy\\n{krotka_z_listy}\")\n",
    "\n",
    "set_z_listy = set(lista)\n",
    "print(f\"Set z Listy\\n{set_z_listy}\")\n",
    "\n",
    "slownik = {\n",
    "    \"a\" : 5,\n",
    "    \"b\" : 10,\n",
    "    \"c\" : \"Duda\"\n",
    "    }\n",
    "print(f\"Słownik\\n{slownik}\")\n",
    "print(slownik['a'])\n",
    "print(slownik.get(\"c\"))\n",
    "\n",
    "for klucz, wartosc in slownik.items():\n",
    "    print(f\"{klucz} = {wartosc}\")\n"
   ]
  },
  {
   "cell_type": "markdown",
   "metadata": {},
   "source": [
    "# Ciekawsze tworzenie list i słowników"
   ]
  },
  {
   "cell_type": "code",
   "execution_count": 35,
   "metadata": {},
   "outputs": [
    {
     "name": "stdout",
     "output_type": "stream",
     "text": [
      "[0, 2, 4, 6, 8]\n",
      "{2: 4, 3: 9, 4: 16, 5: 25, 6: 36, 7: 49, 8: 64, 9: 81}\n"
     ]
    }
   ],
   "source": [
    "ciekawsza_lista = [ i for i in range(0,10,2)]\n",
    "print(ciekawsza_lista)\n",
    "\n",
    "ciekawszy_slownik = { i : i**2 for i in range(2,10)}\n",
    "print(ciekawszy_slownik)"
   ]
  },
  {
   "cell_type": "markdown",
   "metadata": {},
   "source": [
    "# Slicing\n"
   ]
  },
  {
   "cell_type": "code",
   "execution_count": 13,
   "metadata": {},
   "outputs": [
    {
     "name": "stdout",
     "output_type": "stream",
     "text": [
      "Ala ma kota\n",
      "\n",
      "[0, 1, 2, 3, 4, 5, 6, 7, 8, 9]\n",
      "\n",
      "Pierwszy element stringu\n",
      "A\n",
      "\n",
      "Pierwszy element listy\n",
      "0\n",
      "\n",
      "Ostatni elemnty stringu\n",
      "a\n",
      "\n",
      "Ostatni element listy\n",
      "9\n",
      "\n",
      "Elemnt 3, 4 i 5 stringu\n",
      "a m\n",
      "\n",
      "Elemnt 3, 4 i 5 listy\n",
      "[2, 3, 4]\n",
      "\n",
      "Co drugi element stringu\n",
      "Aam oa\n",
      "\n",
      "Co drugi element listy\n",
      "[0, 2, 4, 6, 8]\n",
      "\n",
      "Odwrotność stringu\n",
      "atok am alA\n",
      "\n",
      "Odwrotność listy\n",
      "[9, 8, 7, 6, 5, 4, 3, 2, 1, 0]\n"
     ]
    }
   ],
   "source": [
    "string_do_slicingu = \"Ala ma kota\"\n",
    "print(f\"{string_do_slicingu}\\n\")\n",
    "lista_do_slicingu = [ i for i in range(10)]\n",
    "print(f\"{lista_do_slicingu}\\n\")\n",
    "\n",
    "print(f\"Pierwszy element stringu\\n{string_do_slicingu[0]}\\n\")\n",
    "\n",
    "print(f\"Pierwszy element listy\\n{lista_do_slicingu[0]}\\n\")\n",
    "\n",
    "print(f\"Ostatni elemnty stringu\\n{string_do_slicingu[-1]}\\n\")\n",
    "\n",
    "print(f\"Ostatni element listy\\n{lista_do_slicingu[-1]}\\n\")\n",
    "\n",
    "print(f\"Elemnt 3, 4 i 5 stringu\\n{string_do_slicingu[2:5]}\\n\")\n",
    "\n",
    "print(f\"Elemnt 3, 4 i 5 listy\\n{lista_do_slicingu[2:5]}\\n\")\n",
    "\n",
    "print(f\"Co drugi element stringu\\n{string_do_slicingu[::2]}\\n\")\n",
    "\n",
    "print(f\"Co drugi element listy\\n{lista_do_slicingu[::2]}\\n\")\n",
    "\n",
    "print(f\"Odwrotność stringu\\n{string_do_slicingu[::-1]}\\n\")\n",
    "\n",
    "print(f\"Odwrotność listy\\n{lista_do_slicingu[::-1]}\")"
   ]
  },
  {
   "cell_type": "markdown",
   "metadata": {},
   "source": [
    "# Funkcje\n",
    "```python\n",
    "def dodawanie( x : int, y : int) -> int:\n",
    "    return a + b\n",
    "\n",
    "dodawanie_lambda = lambda x, y : x + y\n",
    "\n",
    "```"
   ]
  },
  {
   "cell_type": "code",
   "execution_count": 4,
   "metadata": {},
   "outputs": [
    {
     "name": "stdout",
     "output_type": "stream",
     "text": [
      "21\n",
      "21\n"
     ]
    }
   ],
   "source": [
    "lista_do_funkcji = [1, 2, 3, 4, 5, 6]\n",
    "\n",
    "def SumaZListy( lista : list):\n",
    "    suma = 0 \n",
    "    for liczba in lista:\n",
    "        suma += liczba\n",
    "    return suma\n",
    "\n",
    "print(SumaZListy(lista_do_funkcji))\n",
    "\n",
    "from functools import reduce\n",
    "\n",
    "SumaZListyLambda = reduce(lambda x,y: x+y, lista_do_funkcji)\n",
    "print(SumaZListyLambda)"
   ]
  },
  {
   "cell_type": "markdown",
   "metadata": {},
   "source": [
    "# Klasa   \n",
    "przykład klasy\n",
    "```python\n",
    "class Klasa:\n",
    "    def __init__(self, parametry):\n",
    "        self.parametry=parametry\n",
    "```"
   ]
  },
  {
   "cell_type": "code",
   "execution_count": 31,
   "metadata": {},
   "outputs": [],
   "source": [
    "class Student:\n",
    "    def __init__(self, id : int, imie : str,\n",
    "                 nazwisko : str, kierunek : str,\n",
    "                 rok : int ):\n",
    "        self.id = id\n",
    "        self.imie = imie\n",
    "        self.nazwisko = nazwisko\n",
    "        self.kierunek = kierunek\n",
    "        self.rok = rok\n",
    "        self.status_studenta = self.status()\n",
    "\n",
    "    \n",
    "    def status(self):\n",
    "        if self.rok > 3:\n",
    "            return \"Absolwent\"\n",
    "        \n",
    "        return \"Student\"\n",
    "        \n",
    "    def zwieksz_rok(self):\n",
    "        self.rok += 1\n",
    "\n",
    "    def zdanie_roku(self):\n",
    "        self.zwieksz_rok()\n",
    "        self.status_studenta = self.status()\n",
    "\n",
    "    def __str__(self):\n",
    "        if self.status_studenta == \"Student\":\n",
    "            return f\"Student: {self.imie} {self.nazwisko}\\nID: {self.id}\\nKierunek: {self.kierunek}\\nStudent roku: {self.rok}\"\n",
    "        \n",
    "        return f\"Student: {self.imie} {self.nazwisko}\\nID: {self.id}\\nKierunek: {self.kierunek}\\nAbsolwent kierunku\""
   ]
  },
  {
   "cell_type": "code",
   "execution_count": 36,
   "metadata": {},
   "outputs": [
    {
     "name": "stdout",
     "output_type": "stream",
     "text": [
      "Imie studenta: Andrzej\n"
     ]
    }
   ],
   "source": [
    "student = Student(1, \"Andrzej\",\n",
    "                  \"Duda\", \"Prawo\",\n",
    "                  3)\n",
    "\n",
    "print(f\"Imie studenta: {student.imie}\")"
   ]
  },
  {
   "cell_type": "code",
   "execution_count": 37,
   "metadata": {},
   "outputs": [
    {
     "name": "stdout",
     "output_type": "stream",
     "text": [
      "Student: Andrzej Duda\n",
      "ID: 1\n",
      "Kierunek: Prawo\n",
      "Student roku: 3\n",
      "\n",
      "Po zaliczeniu roku\n",
      "\n",
      "Student: Andrzej Duda\n",
      "ID: 1\n",
      "Kierunek: Prawo\n",
      "Absolwent kierunku\n"
     ]
    }
   ],
   "source": [
    "print(student)\n",
    "student.zdanie_roku()\n",
    "print(\"\\nPo zaliczeniu roku\\n\")\n",
    "print(student)\n"
   ]
  },
  {
   "cell_type": "markdown",
   "metadata": {},
   "source": [
    "# Inny przykład klasy typu Data Class"
   ]
  },
  {
   "cell_type": "code",
   "execution_count": 61,
   "metadata": {},
   "outputs": [],
   "source": [
    "from dataclasses import dataclass\n",
    "\n",
    "@dataclass\n",
    "class StudentDataClass:\n",
    "    id : int\n",
    "    imie : str\n",
    "    nazwisko : str\n",
    "    kierunek : str\n",
    "    rok : int\n",
    "    status_studenta :str = \"Student\"\n",
    "\n",
    "    def status(self):\n",
    "        if self.rok > 3:\n",
    "            self.status_studenta = \"Absolwent\"\n",
    "            return \n",
    "        \n",
    "        self.status_studenta = \"Student\"\n",
    "        return\n",
    "    \n",
    "    def zwieksz_rok(self):\n",
    "        self.rok += 1\n",
    "\n",
    "    def zdanie_roku(self):\n",
    "        self.zwieksz_rok()\n",
    "        self.status()\n",
    "\n",
    "\n",
    "\n"
   ]
  },
  {
   "cell_type": "code",
   "execution_count": 62,
   "metadata": {},
   "outputs": [],
   "source": [
    "student2 = StudentDataClass(1, \"Andrzej\",\n",
    "                  \"Duda\", \"Prawo\",3)"
   ]
  },
  {
   "cell_type": "code",
   "execution_count": 63,
   "metadata": {},
   "outputs": [
    {
     "name": "stdout",
     "output_type": "stream",
     "text": [
      "StudentDataClass(id=1, imie='Andrzej', nazwisko='Duda', kierunek='Prawo', rok=3, status_studenta='Student')\n",
      "StudentDataClass(id=1, imie='Andrzej', nazwisko='Duda', kierunek='Prawo', rok=4, status_studenta='Absolwent')\n"
     ]
    }
   ],
   "source": [
    "print(student2)\n",
    "student2.zdanie_roku()\n",
    "print(student2)"
   ]
  },
  {
   "cell_type": "code",
   "execution_count": 57,
   "metadata": {},
   "outputs": [],
   "source": [
    "student2.status_studenta"
   ]
  },
  {
   "cell_type": "code",
   "execution_count": 68,
   "metadata": {},
   "outputs": [
    {
     "name": "stdout",
     "output_type": "stream",
     "text": [
      "Wynik: 7\n",
      "Wynik z dekoratorem: 14\n"
     ]
    }
   ],
   "source": [
    "def dekorator(funkcja):\n",
    "    def wraper(a: int, b: int):\n",
    "        return funkcja(a * 2, b * 2)\n",
    "    return wraper\n",
    "\n",
    "def dodawanie(a: int, b: int):\n",
    "    return a + b\n",
    "\n",
    "@dekorator\n",
    "def dodawanie_z_dekoratorem(a: int, b: int):\n",
    "    return a + b\n",
    "\n",
    "# Wywołanie udekorowanej funkcji\n",
    "wynik = dodawanie(3, 4)\n",
    "wynik_z_dekoratorem = dodawanie_z_dekoratorem(3, 4)\n",
    "print(f\"Wynik: {wynik}\")\n",
    "print(f\"Wynik z dekoratorem: {wynik_z_dekoratorem}\")"
   ]
  },
  {
   "cell_type": "code",
   "execution_count": null,
   "metadata": {},
   "outputs": [],
   "source": []
  }
 ],
 "metadata": {
  "kernelspec": {
   "display_name": "Python 3",
   "language": "python",
   "name": "python3"
  },
  "language_info": {
   "codemirror_mode": {
    "name": "ipython",
    "version": 3
   },
   "file_extension": ".py",
   "mimetype": "text/x-python",
   "name": "python",
   "nbconvert_exporter": "python",
   "pygments_lexer": "ipython3",
   "version": "3.8.0"
  }
 },
 "nbformat": 4,
 "nbformat_minor": 2
}
